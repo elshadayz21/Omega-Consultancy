{
 "cells": [
  {
   "cell_type": "code",
   "execution_count": 80,
   "metadata": {},
   "outputs": [],
   "source": [
    "import pandas as pd\n",
    "import os\n",
    "from sklearn.feature_extraction.text import TfidfVectorizer "
   ]
  },
  {
   "cell_type": "code",
   "execution_count": 81,
   "metadata": {},
   "outputs": [],
   "source": [
    "# Get the absolute path to the data directory\n",
    "abs_dir = os.path.abspath(os.path.dirname(os.getcwd()))"
   ]
  },
  {
   "cell_type": "code",
   "execution_count": 82,
   "metadata": {},
   "outputs": [],
   "source": [
    "df = pd.read_csv(os.path.join(abs_dir, 'scripts/data/dashen_reviews_20250608_162802.csv'))"
   ]
  },
  {
   "cell_type": "code",
   "execution_count": 83,
   "metadata": {},
   "outputs": [
    {
     "data": {
      "text/html": [
       "<div>\n",
       "<style scoped>\n",
       "    .dataframe tbody tr th:only-of-type {\n",
       "        vertical-align: middle;\n",
       "    }\n",
       "\n",
       "    .dataframe tbody tr th {\n",
       "        vertical-align: top;\n",
       "    }\n",
       "\n",
       "    .dataframe thead th {\n",
       "        text-align: right;\n",
       "    }\n",
       "</style>\n",
       "<table border=\"1\" class=\"dataframe\">\n",
       "  <thead>\n",
       "    <tr style=\"text-align: right;\">\n",
       "      <th></th>\n",
       "      <th>review_text</th>\n",
       "      <th>rating</th>\n",
       "      <th>upvote</th>\n",
       "      <th>date</th>\n",
       "      <th>bank_name</th>\n",
       "      <th>source</th>\n",
       "    </tr>\n",
       "  </thead>\n",
       "  <tbody>\n",
       "    <tr>\n",
       "      <th>0</th>\n",
       "      <td>I like this mobile banking app very much. Overall user interface and navigation is awesome. But it lacks instant response when someone deposit or withdraw money.</td>\n",
       "      <td>2</td>\n",
       "      <td>0</td>\n",
       "      <td>2025-06-07</td>\n",
       "      <td>Dashen Bank</td>\n",
       "      <td>Google Play</td>\n",
       "    </tr>\n",
       "    <tr>\n",
       "      <th>1</th>\n",
       "      <td>love</td>\n",
       "      <td>3</td>\n",
       "      <td>0</td>\n",
       "      <td>2025-06-06</td>\n",
       "      <td>Dashen Bank</td>\n",
       "      <td>Google Play</td>\n",
       "    </tr>\n",
       "    <tr>\n",
       "      <th>2</th>\n",
       "      <td>መቸሸጠ</td>\n",
       "      <td>5</td>\n",
       "      <td>0</td>\n",
       "      <td>2025-06-03</td>\n",
       "      <td>Dashen Bank</td>\n",
       "      <td>Google Play</td>\n",
       "    </tr>\n",
       "    <tr>\n",
       "      <th>3</th>\n",
       "      <td>wow</td>\n",
       "      <td>5</td>\n",
       "      <td>0</td>\n",
       "      <td>2025-06-03</td>\n",
       "      <td>Dashen Bank</td>\n",
       "      <td>Google Play</td>\n",
       "    </tr>\n",
       "    <tr>\n",
       "      <th>4</th>\n",
       "      <td>gadaa</td>\n",
       "      <td>5</td>\n",
       "      <td>0</td>\n",
       "      <td>2025-06-01</td>\n",
       "      <td>Dashen Bank</td>\n",
       "      <td>Google Play</td>\n",
       "    </tr>\n",
       "  </tbody>\n",
       "</table>\n",
       "</div>"
      ],
      "text/plain": [
       "                                                                                                                                                         review_text  \\\n",
       "0  I like this mobile banking app very much. Overall user interface and navigation is awesome. But it lacks instant response when someone deposit or withdraw money.   \n",
       "1                                                                                                                                                               love   \n",
       "2                                                                                                                                                               መቸሸጠ   \n",
       "3                                                                                                                                                                wow   \n",
       "4                                                                                                                                                              gadaa   \n",
       "\n",
       "   rating  upvote        date    bank_name       source  \n",
       "0       2       0  2025-06-07  Dashen Bank  Google Play  \n",
       "1       3       0  2025-06-06  Dashen Bank  Google Play  \n",
       "2       5       0  2025-06-03  Dashen Bank  Google Play  \n",
       "3       5       0  2025-06-03  Dashen Bank  Google Play  \n",
       "4       5       0  2025-06-01  Dashen Bank  Google Play  "
      ]
     },
     "execution_count": 83,
     "metadata": {},
     "output_type": "execute_result"
    }
   ],
   "source": [
    "pd.set_option('display.max_colwidth', None)\n",
    "\n",
    "df.head(5)"
   ]
  },
  {
   "cell_type": "code",
   "execution_count": 84,
   "metadata": {},
   "outputs": [
    {
     "data": {
      "text/plain": [
       "review_text    object\n",
       "rating          int64\n",
       "upvote          int64\n",
       "date           object\n",
       "bank_name      object\n",
       "source         object\n",
       "dtype: object"
      ]
     },
     "execution_count": 84,
     "metadata": {},
     "output_type": "execute_result"
    }
   ],
   "source": [
    "# check types \n",
    "df.dtypes"
   ]
  },
  {
   "cell_type": "code",
   "execution_count": 85,
   "metadata": {},
   "outputs": [
    {
     "data": {
      "text/html": [
       "<div>\n",
       "<style scoped>\n",
       "    .dataframe tbody tr th:only-of-type {\n",
       "        vertical-align: middle;\n",
       "    }\n",
       "\n",
       "    .dataframe tbody tr th {\n",
       "        vertical-align: top;\n",
       "    }\n",
       "\n",
       "    .dataframe thead th {\n",
       "        text-align: right;\n",
       "    }\n",
       "</style>\n",
       "<table border=\"1\" class=\"dataframe\">\n",
       "  <thead>\n",
       "    <tr style=\"text-align: right;\">\n",
       "      <th></th>\n",
       "      <th>rating</th>\n",
       "      <th>upvote</th>\n",
       "    </tr>\n",
       "  </thead>\n",
       "  <tbody>\n",
       "    <tr>\n",
       "      <th>count</th>\n",
       "      <td>449.000000</td>\n",
       "      <td>449.000000</td>\n",
       "    </tr>\n",
       "    <tr>\n",
       "      <th>mean</th>\n",
       "      <td>4.469933</td>\n",
       "      <td>7.160356</td>\n",
       "    </tr>\n",
       "    <tr>\n",
       "      <th>std</th>\n",
       "      <td>1.206238</td>\n",
       "      <td>24.024655</td>\n",
       "    </tr>\n",
       "    <tr>\n",
       "      <th>min</th>\n",
       "      <td>1.000000</td>\n",
       "      <td>0.000000</td>\n",
       "    </tr>\n",
       "    <tr>\n",
       "      <th>25%</th>\n",
       "      <td>5.000000</td>\n",
       "      <td>2.000000</td>\n",
       "    </tr>\n",
       "    <tr>\n",
       "      <th>50%</th>\n",
       "      <td>5.000000</td>\n",
       "      <td>2.000000</td>\n",
       "    </tr>\n",
       "    <tr>\n",
       "      <th>75%</th>\n",
       "      <td>5.000000</td>\n",
       "      <td>4.000000</td>\n",
       "    </tr>\n",
       "    <tr>\n",
       "      <th>max</th>\n",
       "      <td>5.000000</td>\n",
       "      <td>226.000000</td>\n",
       "    </tr>\n",
       "  </tbody>\n",
       "</table>\n",
       "</div>"
      ],
      "text/plain": [
       "           rating      upvote\n",
       "count  449.000000  449.000000\n",
       "mean     4.469933    7.160356\n",
       "std      1.206238   24.024655\n",
       "min      1.000000    0.000000\n",
       "25%      5.000000    2.000000\n",
       "50%      5.000000    2.000000\n",
       "75%      5.000000    4.000000\n",
       "max      5.000000  226.000000"
      ]
     },
     "execution_count": 85,
     "metadata": {},
     "output_type": "execute_result"
    }
   ],
   "source": [
    "df.describe()"
   ]
  },
  {
   "cell_type": "code",
   "execution_count": 86,
   "metadata": {},
   "outputs": [
    {
     "data": {
      "text/plain": [
       "review_text    0\n",
       "rating         0\n",
       "upvote         0\n",
       "date           0\n",
       "bank_name      0\n",
       "source         0\n",
       "dtype: int64"
      ]
     },
     "execution_count": 86,
     "metadata": {},
     "output_type": "execute_result"
    }
   ],
   "source": [
    "# check for null values in the DataFrame\n",
    "df.isnull().sum()"
   ]
  },
  {
   "cell_type": "markdown",
   "metadata": {},
   "source": [
    "### Remove Duplicate Entries\n",
    "\n",
    "When I check for duplicate entries in general, I find 81 duplicate rows. However, when I define duplicates based on both review_text and rating, the number increases to 1,162 rows. This indicates that the most influential factors in identifying duplicates are the review text and the rating."
   ]
  },
  {
   "cell_type": "code",
   "execution_count": 87,
   "metadata": {},
   "outputs": [
    {
     "name": "stdout",
     "output_type": "stream",
     "text": [
      "data duplicated: 57\n"
     ]
    },
    {
     "data": {
      "text/html": [
       "<div>\n",
       "<style scoped>\n",
       "    .dataframe tbody tr th:only-of-type {\n",
       "        vertical-align: middle;\n",
       "    }\n",
       "\n",
       "    .dataframe tbody tr th {\n",
       "        vertical-align: top;\n",
       "    }\n",
       "\n",
       "    .dataframe thead th {\n",
       "        text-align: right;\n",
       "    }\n",
       "</style>\n",
       "<table border=\"1\" class=\"dataframe\">\n",
       "  <thead>\n",
       "    <tr style=\"text-align: right;\">\n",
       "      <th></th>\n",
       "      <th>review_text</th>\n",
       "      <th>rating</th>\n",
       "      <th>upvote</th>\n",
       "      <th>date</th>\n",
       "      <th>bank_name</th>\n",
       "      <th>source</th>\n",
       "    </tr>\n",
       "  </thead>\n",
       "  <tbody>\n",
       "    <tr>\n",
       "      <th>214</th>\n",
       "      <td>best mobile banking application</td>\n",
       "      <td>5</td>\n",
       "      <td>2</td>\n",
       "      <td>2025-04-21</td>\n",
       "      <td>Dashen Bank</td>\n",
       "      <td>Google Play</td>\n",
       "    </tr>\n",
       "  </tbody>\n",
       "</table>\n",
       "</div>"
      ],
      "text/plain": [
       "                         review_text  rating  upvote        date    bank_name  \\\n",
       "214  best mobile banking application       5       2  2025-04-21  Dashen Bank   \n",
       "\n",
       "          source  \n",
       "214  Google Play  "
      ]
     },
     "execution_count": 87,
     "metadata": {},
     "output_type": "execute_result"
    }
   ],
   "source": [
    "# Check for duplicated data\n",
    "dublicated_data = df.duplicated(subset=['review_text', 'rating'], keep=False).sum()\n",
    "print(f'data duplicated: {dublicated_data}')\n",
    "df[df.duplicated()]"
   ]
  },
  {
   "cell_type": "code",
   "execution_count": 88,
   "metadata": {},
   "outputs": [],
   "source": [
    "# remove duplicated data\n",
    "df.drop_duplicates(subset=['review_text', 'rating'], keep='first', inplace=True)"
   ]
  },
  {
   "cell_type": "code",
   "execution_count": 89,
   "metadata": {},
   "outputs": [
    {
     "data": {
      "text/plain": [
       "review_text            object\n",
       "rating                  int64\n",
       "upvote                  int64\n",
       "date           datetime64[ns]\n",
       "bank_name              object\n",
       "source                 object\n",
       "dtype: object"
      ]
     },
     "execution_count": 89,
     "metadata": {},
     "output_type": "execute_result"
    }
   ],
   "source": [
    "# change date format from object to 'YYYY-MM-DD' format\n",
    "df['date'] = pd.to_datetime(df['date'], format='%Y-%m-%d')\n",
    "df.dtypes"
   ]
  },
  {
   "cell_type": "code",
   "execution_count": 90,
   "metadata": {},
   "outputs": [
    {
     "data": {
      "text/plain": [
       "(411, 6)"
      ]
     },
     "execution_count": 90,
     "metadata": {},
     "output_type": "execute_result"
    }
   ],
   "source": [
    "df.shape"
   ]
  },
  {
   "cell_type": "code",
   "execution_count": 91,
   "metadata": {},
   "outputs": [
    {
     "name": "stdout",
     "output_type": "stream",
     "text": [
      "Defaulting to user installation because normal site-packages is not writeable\n"
     ]
    },
    {
     "name": "stderr",
     "output_type": "stream",
     "text": [
      "\n",
      "[notice] A new release of pip is available: 25.0.1 -> 25.1.1\n",
      "[notice] To update, run: C:\\Users\\elsha\\AppData\\Local\\Microsoft\\WindowsApps\\PythonSoftwareFoundation.Python.3.12_qbz5n2kfra8p0\\python.exe -m pip install --upgrade pip\n",
      "ERROR: Invalid requirement: '#distilBERT-base-uncased,': Expected package name at the start of dependency specifier\n",
      "    #distilBERT-base-uncased,\n",
      "    ^\n"
     ]
    },
    {
     "name": "stdout",
     "output_type": "stream",
     "text": [
      "Defaulting to user installation because normal site-packages is not writeable\n"
     ]
    },
    {
     "name": "stderr",
     "output_type": "stream",
     "text": [
      "\n",
      "[notice] A new release of pip is available: 25.0.1 -> 25.1.1\n",
      "[notice] To update, run: C:\\Users\\elsha\\AppData\\Local\\Microsoft\\WindowsApps\\PythonSoftwareFoundation.Python.3.12_qbz5n2kfra8p0\\python.exe -m pip install --upgrade pip\n",
      "ERROR: Invalid requirement: '#': Expected package name at the start of dependency specifier\n",
      "    #\n",
      "    ^\n"
     ]
    }
   ],
   "source": [
    "!pip install transformers #distilBERT-base-uncased, which helps to classify the reviews\n",
    "!pip install huggingface_hub[hf_xet] # for downloading the model from Hugging Face, for the purpose of sentiment analysis\n"
   ]
  },
  {
   "cell_type": "code",
   "execution_count": 92,
   "metadata": {},
   "outputs": [
    {
     "name": "stderr",
     "output_type": "stream",
     "text": [
      "Device set to use cpu\n"
     ]
    },
    {
     "name": "stdout",
     "output_type": "stream",
     "text": [
      "                                                                                                                                                         review_text  \\\n",
      "0  I like this mobile banking app very much. Overall user interface and navigation is awesome. But it lacks instant response when someone deposit or withdraw money.   \n",
      "1                                                                                                                                                               love   \n",
      "2                                                                                                                                                               መቸሸጠ   \n",
      "3                                                                                                                                                                wow   \n",
      "4                                                                                                                                                              gadaa   \n",
      "\n",
      "  sentiment_label  sentiment_score  \\\n",
      "0        NEGATIVE         0.990445   \n",
      "1        POSITIVE         0.999874   \n",
      "2        NEGATIVE         0.697056   \n",
      "3        POSITIVE         0.999592   \n",
      "4        NEGATIVE         0.721146   \n",
      "\n",
      "                                     sentiment_result  \n",
      "0  {'label': 'NEGATIVE', 'score': 0.9904449582099915}  \n",
      "1  {'label': 'POSITIVE', 'score': 0.9998735189437866}  \n",
      "2  {'label': 'NEGATIVE', 'score': 0.6970561146736145}  \n",
      "3   {'label': 'POSITIVE', 'score': 0.999592125415802}  \n",
      "4  {'label': 'NEGATIVE', 'score': 0.7211462259292603}  \n"
     ]
    }
   ],
   "source": [
    "from transformers import pipeline\n",
    "\n",
    "# Load the sentiment analysis pipeline,  creates a pipeline for a specific NLP task. In this case, the task is sentiment analysis.\n",
    "sentiment_pipeline = pipeline(\"sentiment-analysis\", model=\"distilbert-base-uncased-finetuned-sst-2-english\") \n",
    "#pipline is used to perform sentiment analysis on the review_text column\n",
    "\n",
    "# Apply sentiment to review_text column\n",
    "df['sentiment_result'] = df['review_text'].astype(str).apply(lambda x: sentiment_pipeline(x)[0]) \n",
    "#the above line applies the sentiment analysis pipeline to each review text and stores the result in a new column 'sentiment_result'\n",
    "#astype(str) ensures that the review_text is treated as a string, even if it contains null values or other types.\n",
    "#sentiment_pipeline(x)[0] returns the first result of the sentiment analysis, which is a dictionary containing the sentiment label and score.\n",
    "\n",
    "df['sentiment_label'] = df['sentiment_result'].apply(lambda x: x['label'])\n",
    "#the above line extracts the sentiment label (e.g., 'POSITIVE' or 'NEGATIVE') from the sentiment result and stores it in a new column 'sentiment_label'\n",
    "#apply(lambda x: x['label']) is used to extract the label from each sentiment result.\n",
    "\n",
    "df['sentiment_score'] = df['sentiment_result'].apply(lambda x: x['score'])\n",
    "#the above line extracts the sentiment score (a numerical value indicating the confidence of the sentiment) from the sentiment result and stores it in a new column 'sentiment_score'\n",
    "\n",
    "print(df[['review_text', 'sentiment_label', 'sentiment_score',\"sentiment_result\"]].head(5))\n"
   ]
  },
  {
   "cell_type": "code",
   "execution_count": 93,
   "metadata": {},
   "outputs": [
    {
     "name": "stdout",
     "output_type": "stream",
     "text": [
      "     bank_name  rating  sentiment_score\n",
      "0  Dashen Bank       1         0.995235\n",
      "1  Dashen Bank       2         0.961769\n",
      "2  Dashen Bank       3         0.997640\n",
      "3  Dashen Bank       4         0.974127\n",
      "4  Dashen Bank       5         0.984624\n"
     ]
    }
   ],
   "source": [
    "agg_mean = df.groupby([\"bank_name\", \"rating\"])[\"sentiment_score\"].mean().reset_index()\n",
    "#this line groups the DataFrame by 'bank_name' and 'rating', calculates the mean sentiment score for each group, and resets the index to create a new DataFrame with the results.\n",
    "#reset_index() is used to convert the grouped DataFrame back into a regular DataFrame format.\n",
    "\n",
    "print(agg_mean.head(5))"
   ]
  },
  {
   "cell_type": "code",
   "execution_count": 94,
   "metadata": {},
   "outputs": [
    {
     "name": "stdout",
     "output_type": "stream",
     "text": [
      "     bank_name  rating  avg_sentiment_score\n",
      "0  Dashen Bank       1             0.995235\n",
      "1  Dashen Bank       2             0.961769\n",
      "2  Dashen Bank       3             0.997640\n",
      "3  Dashen Bank       4             0.974127\n",
      "4  Dashen Bank       5             0.984624\n"
     ]
    }
   ],
   "source": [
    "# Rename the column for clarity (optional)\n",
    "agg_mean.rename(columns={'sentiment_score': 'avg_sentiment_score'}, inplace=True)\n",
    "#this line renames the 'sentiment_score' column to 'avg_sentiment_score' for clarity, indicating that it represents the average sentiment score for each group.\n",
    "\n",
    "# agg_df = agg_mean.rename(columns={'sentiment_score': 'average_sentiment_score'}, inplace=True)\n",
    "print(agg_mean.head(5))"
   ]
  },
  {
   "cell_type": "markdown",
   "metadata": {},
   "source": [
    "## Thematic Analysis\n",
    "A theme refers to a recurring concept or topic within user reviews. For this challenge, themes will help summarize user feedback into actionable categories for the banks."
   ]
  },
  {
   "cell_type": "markdown",
   "metadata": {},
   "source": [
    "### Keyword Extraction & Manual/Rule-Based Clustering"
   ]
  },
  {
   "cell_type": "code",
   "execution_count": 95,
   "metadata": {},
   "outputs": [
    {
     "name": "stdout",
     "output_type": "stream",
     "text": [
      "Number of keywords: 100\n",
      "Keywords: ['account' 'ahead' 'all' 'also' 'always' 'amazing' 'an' 'and' 'app'\n",
      " 'application' 'are' 'as' 'bank' 'banking' 'be' 'best' 'but' 'can'\n",
      " 'changer' 'chat']\n"
     ]
    }
   ],
   "source": [
    "verctorizer = TfidfVectorizer(max_features=100)\n",
    "\n",
    "# Fit and transform the review_text column to create a TF-IDF matrix\n",
    "\n",
    "tfidf_verctorized = verctorizer.fit_transform(df['review_text'].astype(str))\n",
    "\n",
    "keywords = verctorizer.get_feature_names_out()\n",
    "\n",
    "print(f\"Number of keywords: {len(keywords)}\")\n",
    "\n",
    "print(f\"Keywords: {keywords[:20]}\")  # Display the first 10 keywords\n"
   ]
  },
  {
   "cell_type": "code",
   "execution_count": 96,
   "metadata": {},
   "outputs": [
    {
     "name": "stdout",
     "output_type": "stream",
     "text": [
      "bank Dashen Bank\n",
      "bank_keywords: {'Dashen Bank': array(['able', 'account', 'ahead', 'amazing', 'amole', 'app',\n",
      "       'application', 'bank', 'banking', 'best', 'better', 'budget',\n",
      "       'changer', 'chat', 'commerce', 'convenience', 'convenient',\n",
      "       'customers', 'dashen', 'design', 'digital', 'easier', 'easily',\n",
      "       'easy', 'effortless', 'ethiopia', 'ethiopian', 'excellent',\n",
      "       'experience', 'fast', 'feature', 'features', 'financial',\n",
      "       'friendly', 'game', 'good', 'great', 'highly', 'incredibly',\n",
      "       'innovation', 'interface', 'intuitive', 'just', 'life', 'like',\n",
      "       'local', 'lot', 'love', 'make', 'makes', 'making', 'mobile',\n",
      "       'money', 'need', 'needs', 'new', 'nice', 'option', 'otp',\n",
      "       'overall', 'pay', 'payment', 'payments', 'place', 'platform',\n",
      "       'really', 'recommended', 'reliable', 'seamless', 'secure',\n",
      "       'security', 'service', 'services', 'shopping', 'simple', 'slow',\n",
      "       'smooth', 'speed', 'step', 'super', 'superapp', 'supper', 'tasks',\n",
      "       'telebirr', 'thanks', 'time', 'transaction', 'transactions',\n",
      "       'transfer', 'truly', 'use', 'used', 'user', 'using', 've',\n",
      "       'version', 'work', 'working', 'wow', 'ነው'], dtype=object)}\n"
     ]
    }
   ],
   "source": [
    "\n",
    "\n",
    "bank_keywords = {}\n",
    "# grouped_by_bank = df.groupby('bank_name')\n",
    "# print(\" grouped by bank name  \",grouped_by_bank) # this line counts the number of reviews for each bank and displays the result.\n",
    "\n",
    "\n",
    "\n",
    "for bank, group in df.groupby('bank_name'): # grouping the DataFrame by 'bank_name', output is a dictionary-like object where each key is a bank name and each value is a DataFrame containing the reviews for that bank.\n",
    "\n",
    "    vectorizer = TfidfVectorizer(max_features=100, stop_words='english')\n",
    "\n",
    "    print(\"bank\", bank)  # Display the bank name and its corresponding group of reviews\n",
    "    #print( \"group\", group[\"review_text\"].head(5))  # Display the first 5 reviews for the current bank\n",
    "\n",
    "    tfidf_matrix = vectorizer.fit_transform(group['review_text'].astype(str)) # this line fits the TF-IDF vectorizer to the review_text of each bank and transforms it into a TF-IDF matrix.\n",
    "\n",
    "    keywords = vectorizer.get_feature_names_out()\n",
    "    # print(\"keywords for bank:\", bank, \"->\", keywords)  # Display the keywords for each bank\n",
    "    \n",
    "    bank_keywords[bank] = keywords # Store the keywords for each bank in the dictionary,eg. CBE:{keyword1, keyword2, ...}\n",
    "\n",
    "    print(\"bank_keywords:\", bank_keywords)  # Display the dictionary containing keywords for each bank\n",
    "\n",
    "\n"
   ]
  },
  {
   "cell_type": "code",
   "execution_count": 97,
   "metadata": {},
   "outputs": [],
   "source": [
    "global theme_keywords # Initialize an empty dictionary to store themes and their associated keywords\n",
    "theme_keywords = {\n",
    "    'Account Access Issues': ['login', 'access', 'account', 'password', 'blocked', 'error'],\n",
    "    'Transaction Performance': ['transaction', 'delay', 'payment', 'processing', 'funds', 'failed'],\n",
    "    'User Interface & Experience': ['app', 'interface', 'design', 'navigation', 'crash', 'slow'],\n",
    "    'Customer Support': ['support', 'agent', 'response', 'feedback', 'service'],\n",
    "    'Feature Requests': ['feature', 'add', 'need', 'want', 'update', 'new']\n",
    "} #t this returns a dictionary where each key is a theme and each value is a list of keywords associated with that theme."
   ]
  },
  {
   "cell_type": "markdown",
   "metadata": {},
   "source": [
    "## Manual Grouping "
   ]
  },
  {
   "cell_type": "code",
   "execution_count": 98,
   "metadata": {},
   "outputs": [
    {
     "name": "stdout",
     "output_type": "stream",
     "text": [
      "Dashen Bank: ['User Interface & Experience', 'Feature Requests', 'Transaction Performance', 'Account Access Issues', 'Customer Support']\n"
     ]
    }
   ],
   "source": [
    "\n",
    "\n",
    "bank_theme_mapping = {}\n",
    "\n",
    "for bank, keywords in bank_keywords.items():\n",
    "    theme_counts = {theme: 0 for theme in theme_keywords}\n",
    "    \n",
    "    for word in keywords:\n",
    "        for theme, word_list in theme_keywords.items():\n",
    "            if word in word_list:\n",
    "                theme_counts[theme] += 1\n",
    "    \n",
    "    # Sort and keep top 3–5 themes\n",
    "    sorted_themes = sorted(theme_counts.items(), key=lambda x: x[1], reverse=True) #x[1] is used to sort the themes based on their counts in descending order.\n",
    "    bank_theme_mapping[bank] = [theme for theme, count in sorted_themes if count > 0][:5]\n",
    "\n",
    "# Display\n",
    "for bank, top_themes in bank_theme_mapping.items():\n",
    "    print(f\"{bank}: {top_themes}\")"
   ]
  },
  {
   "cell_type": "markdown",
   "metadata": {},
   "source": [
    "\n",
    "## 🚀 Alternative Approach: Use Embedding Similarity (with spaCy)\n",
    "This approach:\n",
    "\n",
    "Uses word embeddings to measure similarity between keywords and theme labels.\n",
    "\n",
    "Dynamically assigns keywords to themes without hardcoding word lists.\n",
    "\n",
    "Works well when keywords are varied or noisy.\n",
    "\n",
    "pip install spacy\n",
    "python -m spacy download en_core_web_md "
   ]
  },
  {
   "cell_type": "markdown",
   "metadata": {},
   "source": [
    "## 🧠 What is spaCy?\n",
    "\n",
    "spaCy is a popular open-source Natural Language Processing (NLP) library in Python.\n",
    "\n",
    "✅ It provides:\n",
    "Tokenization (splitting sentences into words)\n",
    "\n",
    "Part-of-speech tagging (e.g., noun, verb)\n",
    "\n",
    "Named entity recognition (e.g., people, places)\n",
    "\n",
    "Word vectors / embeddings (words as mathematical vectors for similarity)\n",
    "\n",
    "Dependency parsing (grammar structure of a sentence)\n",
    "\n",
    "🔍 Why is spaCy useful?\n",
    "You can compare words by meaning using pre-trained word vectors.\n",
    "\n",
    "It allows semantic similarity, like matching \"login\" with \"access issue\".\n",
    "\n",
    "But spaCy is not required for everything — you can do topic grouping without it."
   ]
  },
  {
   "cell_type": "code",
   "execution_count": 99,
   "metadata": {},
   "outputs": [
    {
     "name": "stdout",
     "output_type": "stream",
     "text": [
      "Defaulting to user installation because normal site-packages is not writeable\n"
     ]
    },
    {
     "name": "stderr",
     "output_type": "stream",
     "text": [
      "\n",
      "[notice] A new release of pip is available: 25.0.1 -> 25.1.1\n",
      "[notice] To update, run: C:\\Users\\elsha\\AppData\\Local\\Microsoft\\WindowsApps\\PythonSoftwareFoundation.Python.3.12_qbz5n2kfra8p0\\python.exe -m pip install --upgrade pip\n",
      "ERROR: Invalid requirement: '#this': Expected package name at the start of dependency specifier\n",
      "    #this\n",
      "    ^\n"
     ]
    }
   ],
   "source": [
    "!pip install spacy #this library is used for natural language processing tasks, such as tokenization, part-of-speech tagging, and named entity recognition."
   ]
  },
  {
   "cell_type": "code",
   "execution_count": 100,
   "metadata": {},
   "outputs": [
    {
     "ename": "OSError",
     "evalue": "[E050] Can't find model 'en_core_web_md'. It doesn't seem to be a Python package or a valid path to a data directory.",
     "output_type": "error",
     "traceback": [
      "\u001b[31m---------------------------------------------------------------------------\u001b[39m",
      "\u001b[31mOSError\u001b[39m                                   Traceback (most recent call last)",
      "\u001b[36mCell\u001b[39m\u001b[36m \u001b[39m\u001b[32mIn[100]\u001b[39m\u001b[32m, line 6\u001b[39m\n\u001b[32m      3\u001b[39m \u001b[38;5;28;01mfrom\u001b[39;00m\u001b[38;5;250m \u001b[39m\u001b[34;01msklearn\u001b[39;00m\u001b[34;01m.\u001b[39;00m\u001b[34;01mfeature_extraction\u001b[39;00m\u001b[34;01m.\u001b[39;00m\u001b[34;01mtext\u001b[39;00m\u001b[38;5;250m \u001b[39m\u001b[38;5;28;01mimport\u001b[39;00m TfidfVectorizer\n\u001b[32m      5\u001b[39m \u001b[38;5;66;03m# Load spaCy model with word vectors\u001b[39;00m\n\u001b[32m----> \u001b[39m\u001b[32m6\u001b[39m nlp = \u001b[43mspacy\u001b[49m\u001b[43m.\u001b[49m\u001b[43mload\u001b[49m\u001b[43m(\u001b[49m\u001b[33;43m\"\u001b[39;49m\u001b[33;43men_core_web_md\u001b[39;49m\u001b[33;43m\"\u001b[39;49m\u001b[43m)\u001b[49m\n\u001b[32m      8\u001b[39m \u001b[38;5;66;03m# Define theme labels (you can adjust these)\u001b[39;00m\n\u001b[32m      9\u001b[39m themes = [\u001b[33m'\u001b[39m\u001b[33mAccount Access Issues\u001b[39m\u001b[33m'\u001b[39m, \u001b[33m'\u001b[39m\u001b[33mTransaction Performance\u001b[39m\u001b[33m'\u001b[39m, \u001b[33m'\u001b[39m\u001b[33mUser Interface & Experience\u001b[39m\u001b[33m'\u001b[39m, \u001b[33m'\u001b[39m\u001b[33mCustomer Support\u001b[39m\u001b[33m'\u001b[39m, \u001b[33m'\u001b[39m\u001b[33mFeature Requests\u001b[39m\u001b[33m'\u001b[39m]\n",
      "\u001b[36mFile \u001b[39m\u001b[32m~\\AppData\\Local\\Packages\\PythonSoftwareFoundation.Python.3.12_qbz5n2kfra8p0\\LocalCache\\local-packages\\Python312\\site-packages\\spacy\\__init__.py:52\u001b[39m, in \u001b[36mload\u001b[39m\u001b[34m(name, vocab, disable, enable, exclude, config)\u001b[39m\n\u001b[32m     28\u001b[39m \u001b[38;5;28;01mdef\u001b[39;00m\u001b[38;5;250m \u001b[39m\u001b[34mload\u001b[39m(\n\u001b[32m     29\u001b[39m     name: Union[\u001b[38;5;28mstr\u001b[39m, Path],\n\u001b[32m     30\u001b[39m     *,\n\u001b[32m   (...)\u001b[39m\u001b[32m     35\u001b[39m     config: Union[Dict[\u001b[38;5;28mstr\u001b[39m, Any], Config] = util.SimpleFrozenDict(),\n\u001b[32m     36\u001b[39m ) -> Language:\n\u001b[32m     37\u001b[39m \u001b[38;5;250m    \u001b[39m\u001b[33;03m\"\"\"Load a spaCy model from an installed package or a local path.\u001b[39;00m\n\u001b[32m     38\u001b[39m \n\u001b[32m     39\u001b[39m \u001b[33;03m    name (str): Package name or model path.\u001b[39;00m\n\u001b[32m   (...)\u001b[39m\u001b[32m     50\u001b[39m \u001b[33;03m    RETURNS (Language): The loaded nlp object.\u001b[39;00m\n\u001b[32m     51\u001b[39m \u001b[33;03m    \"\"\"\u001b[39;00m\n\u001b[32m---> \u001b[39m\u001b[32m52\u001b[39m     \u001b[38;5;28;01mreturn\u001b[39;00m \u001b[43mutil\u001b[49m\u001b[43m.\u001b[49m\u001b[43mload_model\u001b[49m\u001b[43m(\u001b[49m\n\u001b[32m     53\u001b[39m \u001b[43m        \u001b[49m\u001b[43mname\u001b[49m\u001b[43m,\u001b[49m\n\u001b[32m     54\u001b[39m \u001b[43m        \u001b[49m\u001b[43mvocab\u001b[49m\u001b[43m=\u001b[49m\u001b[43mvocab\u001b[49m\u001b[43m,\u001b[49m\n\u001b[32m     55\u001b[39m \u001b[43m        \u001b[49m\u001b[43mdisable\u001b[49m\u001b[43m=\u001b[49m\u001b[43mdisable\u001b[49m\u001b[43m,\u001b[49m\n\u001b[32m     56\u001b[39m \u001b[43m        \u001b[49m\u001b[43menable\u001b[49m\u001b[43m=\u001b[49m\u001b[43menable\u001b[49m\u001b[43m,\u001b[49m\n\u001b[32m     57\u001b[39m \u001b[43m        \u001b[49m\u001b[43mexclude\u001b[49m\u001b[43m=\u001b[49m\u001b[43mexclude\u001b[49m\u001b[43m,\u001b[49m\n\u001b[32m     58\u001b[39m \u001b[43m        \u001b[49m\u001b[43mconfig\u001b[49m\u001b[43m=\u001b[49m\u001b[43mconfig\u001b[49m\u001b[43m,\u001b[49m\n\u001b[32m     59\u001b[39m \u001b[43m    \u001b[49m\u001b[43m)\u001b[49m\n",
      "\u001b[36mFile \u001b[39m\u001b[32m~\\AppData\\Local\\Packages\\PythonSoftwareFoundation.Python.3.12_qbz5n2kfra8p0\\LocalCache\\local-packages\\Python312\\site-packages\\spacy\\util.py:484\u001b[39m, in \u001b[36mload_model\u001b[39m\u001b[34m(name, vocab, disable, enable, exclude, config)\u001b[39m\n\u001b[32m    482\u001b[39m \u001b[38;5;28;01mif\u001b[39;00m name \u001b[38;5;129;01min\u001b[39;00m OLD_MODEL_SHORTCUTS:\n\u001b[32m    483\u001b[39m     \u001b[38;5;28;01mraise\u001b[39;00m \u001b[38;5;167;01mIOError\u001b[39;00m(Errors.E941.format(name=name, full=OLD_MODEL_SHORTCUTS[name]))  \u001b[38;5;66;03m# type: ignore[index]\u001b[39;00m\n\u001b[32m--> \u001b[39m\u001b[32m484\u001b[39m \u001b[38;5;28;01mraise\u001b[39;00m \u001b[38;5;167;01mIOError\u001b[39;00m(Errors.E050.format(name=name))\n",
      "\u001b[31mOSError\u001b[39m: [E050] Can't find model 'en_core_web_md'. It doesn't seem to be a Python package or a valid path to a data directory."
     ]
    }
   ],
   "source": [
    "import spacy\n",
    "import numpy as np\n",
    "from sklearn.feature_extraction.text import TfidfVectorizer\n",
    "\n",
    "# Load spaCy model with word vectors\n",
    "nlp = spacy.load(\"en_core_web_md\")\n",
    "\n",
    "# Define theme labels (you can adjust these)\n",
    "themes = ['Account Access Issues', 'Transaction Performance', 'User Interface & Experience', 'Customer Support', 'Feature Requests']\n",
    "\n",
    "# Embed themes\n",
    "theme_vectors = {theme: nlp(theme).vector for theme in themes}\n",
    "\n",
    "bank_theme_mapping = {}\n",
    "\n",
    "for bank, group in df.groupby('bank_name'):\n",
    "    # TF-IDF vectorization for current bank\n",
    "    vectorizer = TfidfVectorizer(max_features=100, stop_words='english')\n",
    "    tfidf_matrix = vectorizer.fit_transform(group['review_text'].astype(str))\n",
    "    keywords = vectorizer.get_feature_names_out()\n",
    "    \n",
    "    # Assign each keyword to the most similar theme\n",
    "    theme_count = {theme: 0 for theme in themes}\n",
    "    \n",
    "    for kw in keywords:\n",
    "        kw_vec = nlp(kw).vector\n",
    "        if np.linalg.norm(kw_vec) == 0:\n",
    "            continue  # skip empty vectors (rare but possible)\n",
    "        \n",
    "        # Compute cosine similarity\n",
    "        similarities = {theme: np.dot(kw_vec, vec) / (np.linalg.norm(vec) * np.linalg.norm(kw_vec)) for theme, vec in theme_vectors.items()}\n",
    "        best_theme = max(similarities, key=similarities.get)\n",
    "        theme_count[best_theme] += 1\n",
    "    \n",
    "    # Get top 3–5 themes\n",
    "    sorted_themes = sorted(theme_count.items(), key=lambda x: x[1], reverse=True)\n",
    "    bank_theme_mapping[bank] = [theme for theme, count in sorted_themes if count > 0][:5]\n",
    "\n",
    "# Output themes per bank\n",
    "for bank, top_themes in bank_theme_mapping.items():\n",
    "    print(f\"{bank}: {top_themes}\")\n"
   ]
  },
  {
   "cell_type": "markdown",
   "metadata": {},
   "source": [
    "## Pipeline"
   ]
  },
  {
   "cell_type": "markdown",
   "metadata": {},
   "source": [
    "Script preprocessing (tokenization, stop-word removal, lemmatization if useful) with Pandas and NLP libraries."
   ]
  },
  {
   "cell_type": "code",
   "execution_count": 101,
   "metadata": {},
   "outputs": [],
   "source": [
    "#import dependencies\n",
    "import pandas as pd\n",
    "import nltk\n",
    "from nltk.corpus import stopwords \n",
    "from nltk.tokenize import word_tokenize #for text preprocessing, which includes tokenization, stopword removal, and lemmatization\n",
    "from nltk.stem import WordNetLemmatizer #for text preprocessing, which includes tokenization, stopword removal, and lemmatization\n",
    " \n",
    "#sentiment analysis\n",
    "from textblob import TextBlob\n",
    "from nltk.sentiment.vader import SentimentIntensityAnalyzer #for sentiment analysis\n",
    "from sklearn.feature_extraction.text import TfidfVectorizer #for text vectorization, means converting text data into numerical format that machine learning algorithms can understand, what TF-IDF does is that it takes into account both the frequency of words and their importance in the context of the document, which can help the model understand the meaning and relevance of words in the text.\n",
    "from sklearn.model_selection import train_test_split #for splitting the dataset into training and testing sets\n",
    "from sklearn.naive_bayes import MultinomialNB #for building a Naive Bayes classifier, which is a simple and effective algorithm for text classification tasks\n",
    "from sklearn.metrics import accuracy_score\n",
    "\n",
    "#keyword Extraction\n",
    "from sklearn.feature_extraction.text import TfidfVectorizer\n",
    "\n",
    "#visuals\n",
    "import matplotlib.pyplot as plt\n",
    "from wordcloud import WordCloud #for visualizing text data"
   ]
  },
  {
   "cell_type": "code",
   "execution_count": 102,
   "metadata": {},
   "outputs": [
    {
     "name": "stderr",
     "output_type": "stream",
     "text": [
      "[nltk_data] Downloading package punkt to\n",
      "[nltk_data]     C:\\Users\\elsha\\AppData\\Roaming\\nltk_data...\n",
      "[nltk_data]   Package punkt is already up-to-date!\n",
      "[nltk_data] Downloading package stopwords to\n",
      "[nltk_data]     C:\\Users\\elsha\\AppData\\Roaming\\nltk_data...\n",
      "[nltk_data]   Package stopwords is already up-to-date!\n",
      "[nltk_data] Downloading package averaged_perceptron_tagger to\n",
      "[nltk_data]     C:\\Users\\elsha\\AppData\\Roaming\\nltk_data...\n",
      "[nltk_data]   Package averaged_perceptron_tagger is already up-to-\n",
      "[nltk_data]       date!\n",
      "[nltk_data] Downloading package vader_lexicon to\n",
      "[nltk_data]     C:\\Users\\elsha\\AppData\\Roaming\\nltk_data...\n",
      "[nltk_data]   Package vader_lexicon is already up-to-date!\n",
      "[nltk_data] Downloading package wordnet to\n",
      "[nltk_data]     C:\\Users\\elsha\\AppData\\Roaming\\nltk_data...\n",
      "[nltk_data]   Package wordnet is already up-to-date!\n",
      "[nltk_data] Downloading package omw-1.4 to\n",
      "[nltk_data]     C:\\Users\\elsha\\AppData\\Roaming\\nltk_data...\n",
      "[nltk_data]   Package omw-1.4 is already up-to-date!\n",
      "[nltk_data] Downloading package punkt to\n",
      "[nltk_data]     C:\\Users\\elsha\\AppData\\Roaming\\nltk_data...\n",
      "[nltk_data]   Package punkt is already up-to-date!\n",
      "[nltk_data] Downloading package punkt_tab to\n",
      "[nltk_data]     C:\\Users\\elsha\\AppData\\Roaming\\nltk_data...\n",
      "[nltk_data]   Package punkt_tab is already up-to-date!\n"
     ]
    },
    {
     "data": {
      "text/plain": [
       "True"
      ]
     },
     "execution_count": 102,
     "metadata": {},
     "output_type": "execute_result"
    }
   ],
   "source": [
    "# Download NLTK resources\n",
    "nltk.download('punkt') # for tokenization, means splitting text into words\n",
    "nltk.download('stopwords') # for removing common words like 'the', 'is', etc.\n",
    "nltk.download('averaged_perceptron_tagger') # for part-of-speech tagging, meaning identifying the grammatical category of words\n",
    "nltk.download('vader_lexicon') # for sentiment analysis using VADER\n",
    "nltk.download('wordnet') # for lemmatization, which is reducing words to their base form, eg. 'running' to 'run'\n",
    "nltk.download('omw-1.4') # for lemmatization with WordNet, which is a lexical database for the English language\n",
    "nltk.download('punkt') # for tokenization, which is splitting text into sentences or words\n",
    "nltk.download('punkt_tab') # for tokenization with tab-separated values, which is useful for processing text data in a tabular format"
   ]
  },
  {
   "cell_type": "code",
   "execution_count": 103,
   "metadata": {},
   "outputs": [
    {
     "name": "stdout",
     "output_type": "stream",
     "text": [
      "0    like mobile banking app much overall user interface navigation awesome lack instant response someone deposit withdraw money\n",
      "1                                                                                                                           love\n",
      "2                                                                                                                           መቸሸጠ\n",
      "3                                                                                                                            wow\n",
      "4                                                                                                                          gadaa\n",
      "Name: processed_review, dtype: object\n"
     ]
    }
   ],
   "source": [
    "# Preprocess text function\n",
    "def preprocess_text(text):\n",
    "    tokens = word_tokenize(text.lower()) # Tokenize and convert to lowercase\n",
    "    lemmatizer = WordNetLemmatizer() # Initialize lemmatizer, which reduces words to their base form\n",
    "    stop_words = set(stopwords.words('english')) # Set of common words to remove, like 'the', 'is', etc.\n",
    "    tokens = [lemmatizer.lemmatize(word) for word in tokens if word.isalnum() and word not in stop_words] # Remove non-alphanumeric tokens and stopwords\n",
    "    return ' '.join(tokens) # Join tokens back into a single string\n",
    "\n",
    "# Apply preprocessing       \n",
    "df['processed_review'] = df['review_text'].apply(preprocess_text) # Display the first few rows of the processed reviews\n",
    "\n",
    "print(df['processed_review'].head(5)) # Display the first few rows of the processed reviews\n"
   ]
  },
  {
   "cell_type": "code",
   "execution_count": 104,
   "metadata": {},
   "outputs": [
    {
     "data": {
      "text/plain": [
       "0    User Interface & Experience, Feature Requests, Transaction Performance, Account Access Issues, Customer Support\n",
       "1    User Interface & Experience, Feature Requests, Transaction Performance, Account Access Issues, Customer Support\n",
       "2    User Interface & Experience, Feature Requests, Transaction Performance, Account Access Issues, Customer Support\n",
       "3    User Interface & Experience, Feature Requests, Transaction Performance, Account Access Issues, Customer Support\n",
       "4    User Interface & Experience, Feature Requests, Transaction Performance, Account Access Issues, Customer Support\n",
       "Name: identified_theme, dtype: object"
      ]
     },
     "execution_count": 104,
     "metadata": {},
     "output_type": "execute_result"
    }
   ],
   "source": [
    "# Create a new column named identified_theme\n",
    "df['identified_theme'] = df['bank_name'].map(bank_theme_mapping).apply(lambda x: ', '.join(x))\n",
    "# Define the columns you want to save\n",
    "columns_to_save = ['review_text', 'sentiment_label', 'sentiment_score', 'identified_theme']\n",
    "\n",
    "# Save the results to a CSV file\n",
    "# df[columns_to_save].to_csv('results.csv', index=False)\n",
    "for bank_name, group in df.groupby('bank_name'):\n",
    "    columns_to_save = ['review_text', 'sentiment_label', 'sentiment_score', 'identified_theme']\n",
    "    group[columns_to_save].to_csv(f'results_of_{bank_name}.csv', index=False)\n",
    "\n",
    "df['identified_theme'].head(5)  # Display the first few rows of the identified themes"
   ]
  },
  {
   "cell_type": "code",
   "execution_count": 105,
   "metadata": {},
   "outputs": [
    {
     "name": "stdout",
     "output_type": "stream",
     "text": [
      "0    like mobile banking app much overall user interface navigation awesome lack instant response someone deposit withdraw money\n",
      "1                                                                                                                           love\n",
      "2                                                                                                                           መቸሸጠ\n",
      "3                                                                                                                            wow\n",
      "4                                                                                                                          gadaa\n",
      "Name: processed_review, dtype: object\n"
     ]
    }
   ],
   "source": [
    "# Preprocessing function\n",
    "\n",
    "# This function takes a text input, tokenizes it, removes stopwords, and lemmatizes the words.\n",
    "def preprocess_text(text):\n",
    "    tokens = word_tokenize(text.lower()) # Tokenize and convert to lowercase\n",
    "    lemmatizer = WordNetLemmatizer() # Initialize lemmatizer, which reduces words to their base form\n",
    "    stop_words = set(stopwords.words('english')) # Set of common words to remove, like 'the', 'is', etc.\n",
    "    tokens = [lemmatizer.lemmatize(word) for word in tokens if word.isalnum() and word not in stop_words] # Remove non-alphanumeric tokens and stopwords\n",
    "    return ' '.join(tokens) # Join tokens back into a single string\n",
    "\n",
    "# Apply preprocessing       \n",
    "df['processed_review'] = df['review_text'].apply(preprocess_text) # Display the first few rows of the processed reviews\n",
    "\n",
    "print(df['processed_review'].head(5)) # Display the first few rows of the processed reviews\n"
   ]
  },
  {
   "cell_type": "code",
   "execution_count": 106,
   "metadata": {},
   "outputs": [
    {
     "name": "stdout",
     "output_type": "stream",
     "text": [
      "Top Keywords: ['account' 'ahead' 'all' 'also' 'always' 'amazing' 'an' 'and' 'app'\n",
      " 'application' 'are' 'as' 'bank' 'banking' 'be' 'best' 'but' 'can'\n",
      " 'changer' 'chat' 'commerce' 'convenient' 'dashen' 'digital' 'easy'\n",
      " 'ethiopian' 'ever' 'everything' 'excellent' 'experience' 'fast' 'feature'\n",
      " 'features' 'for' 'friendly' 'from' 'game' 'good' 'great' 'has' 'have'\n",
      " 'highly' 'in' 'interface' 'is' 'it' 'its' 'just' 'keep' 'life' 'like'\n",
      " 'love' 'make' 'makes' 'me' 'mobile' 'money' 'more' 'most' 'my' 'need'\n",
      " 'new' 'nice' 'not' 'of' 'on' 'one' 'or' 'other' 'payments' 'really'\n",
      " 'reliable' 'seamless' 'secure' 'services' 'smooth' 'so' 'step' 'super'\n",
      " 'supper' 'that' 'the' 'this' 'time' 'to' 'transaction' 'transactions'\n",
      " 'up' 'use' 'user' 'using' 'very' 'we' 'what' 'when' 'with' 'work' 'wow'\n",
      " 'you' 'your']\n"
     ]
    }
   ],
   "source": [
    "# Vectorize the dataset\n",
    "\n",
    "df_results = pd.read_csv(f'results_of_{bank_name}.csv')  # Read the results CSV file\n",
    "\n",
    "vectorizer = TfidfVectorizer(max_features=100)\n",
    "X = vectorizer.fit_transform(df_results['review_text'].astype(str))  # Convert review_text to string and fit the vectorizer\n",
    "\n",
    "# Get top keywords\n",
    "keywords = vectorizer.get_feature_names_out()\n",
    "print(\"Top Keywords:\", keywords)\n",
    "\n",
    "\n"
   ]
  },
  {
   "cell_type": "markdown",
   "metadata": {},
   "source": [
    "## Cluster into 3–5 themes per bank (e.g., UI, reliability)."
   ]
  },
  {
   "cell_type": "code",
   "execution_count": 107,
   "metadata": {},
   "outputs": [],
   "source": [
    "from sklearn.decomposition import LatentDirichletAllocation\n",
    "from sklearn.feature_extraction.text import TfidfVectorizer"
   ]
  },
  {
   "cell_type": "code",
   "execution_count": 108,
   "metadata": {},
   "outputs": [
    {
     "name": "stdout",
     "output_type": "stream",
     "text": [
      "                             Dashen Bank\n",
      "Account Access Issues                100\n",
      "Transaction Performance              100\n",
      "User Interface & Experience          100\n",
      "Customer Support                     100\n",
      "Feature Requests                     100\n"
     ]
    }
   ],
   "source": [
    "from collections import defaultdict\n",
    "bank_themes = {}\n",
    "\n",
    "# Define themes and their associated keywords\n",
    "for bank, keywords in bank_keywords.items():\n",
    "    theme_count = defaultdict(int)\n",
    "    for word in keywords:\n",
    "        for theme, words in theme_counts.items():\n",
    "            # if word.lower() in words:\n",
    "                theme_count[theme] += 1\n",
    "            #  if not isinstance(words, list):\n",
    "            #     print(f\"⚠️ Problem: Theme '{theme}' has a non-list value: {words}\")\n",
    "            \n",
    "    bank_themes[bank] = dict(theme_count)\n",
    "\n",
    "# Optionally, view results\n",
    "import pandas as pd\n",
    "theme_df = pd.DataFrame(bank_themes).fillna(0).astype(int)\n",
    "print(theme_df)\n"
   ]
  },
  {
   "cell_type": "markdown",
   "metadata": {},
   "source": [
    "### Compare Banks"
   ]
  },
  {
   "cell_type": "code",
   "execution_count": 109,
   "metadata": {},
   "outputs": [
    {
     "data": {
      "image/png": "[encoded data removed]",
      "text/plain": [
       "<Figure size 1000x600 with 1 Axes>"
      ]
     },
     "metadata": {},
     "output_type": "display_data"
    }
   ],
   "source": [
    "import matplotlib.pyplot as plt\n",
    "import pandas as pd\n",
    "\n",
    "theme_df = pd.DataFrame(bank_themes).fillna(0)\n",
    "theme_df.plot(kind='bar', figsize=(10,6), title=\"Theme Mentions per Bank\")\n",
    "plt.ylabel(\"Mentions\")\n",
    "plt.xticks(rotation=45)\n",
    "plt.tight_layout()\n",
    "plt.show()\n"
   ]
  }
 ],
 "metadata": {
  "kernelspec": {
   "display_name": "Python 3",
   "language": "python",
   "name": "python3"
  },
  "language_info": {
   "codemirror_mode": {
    "name": "ipython",
    "version": 3
   },
   "file_extension": ".py",
   "mimetype": "text/x-python",
   "name": "python",
   "nbconvert_exporter": "python",
   "pygments_lexer": "ipython3",
   "version": "3.12.10"
  }
 },
 "nbformat": 4,
 "nbformat_minor": 2
}
