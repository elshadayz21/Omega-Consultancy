{
 "cells": [
  {
   "cell_type": "code",
   "execution_count": null,
   "id": "55b3cb8f",
   "metadata": {},
   "outputs": [],
   "source": [
    "from collections import defaultdict\n",
    "\n",
    "bank_themes = {}\n",
    "\n",
    "for bank, keywords in bank_keywords.items():\n",
    "    theme_count = defaultdict(int)\n",
    "    for word in keywords:\n",
    "        for theme, words in theme_keywords.items():\n",
    "            if word in words:\n",
    "                theme_count[theme] += 1\n",
    "    bank_themes[bank] = dict(theme_count)\n"
   ]
  }
 ],
 "metadata": {
  "language_info": {
   "name": "python"
  }
 },
 "nbformat": 4,
 "nbformat_minor": 5
}
