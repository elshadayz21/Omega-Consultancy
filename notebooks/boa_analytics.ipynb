{
 "cells": [
  {
   "cell_type": "code",
   "execution_count": 12,
   "id": "1f95dc49",
   "metadata": {},
   "outputs": [
    {
     "data": {
      "text/html": [
       "<div>\n",
       "<style scoped>\n",
       "    .dataframe tbody tr th:only-of-type {\n",
       "        vertical-align: middle;\n",
       "    }\n",
       "\n",
       "    .dataframe tbody tr th {\n",
       "        vertical-align: top;\n",
       "    }\n",
       "\n",
       "    .dataframe thead th {\n",
       "        text-align: right;\n",
       "    }\n",
       "</style>\n",
       "<table border=\"1\" class=\"dataframe\">\n",
       "  <thead>\n",
       "    <tr style=\"text-align: right;\">\n",
       "      <th></th>\n",
       "      <th>review_text</th>\n",
       "      <th>rating</th>\n",
       "      <th>upvote</th>\n",
       "      <th>date</th>\n",
       "      <th>bank_name</th>\n",
       "      <th>source</th>\n",
       "    </tr>\n",
       "  </thead>\n",
       "  <tbody>\n",
       "    <tr>\n",
       "      <th>0</th>\n",
       "      <td>it's not working</td>\n",
       "      <td>3</td>\n",
       "      <td>0</td>\n",
       "      <td>2025-06-05</td>\n",
       "      <td>Bank of Abyssinia</td>\n",
       "      <td>Google Play</td>\n",
       "    </tr>\n",
       "    <tr>\n",
       "      <th>1</th>\n",
       "      <td>Hello, I’m facing a problem with the BOA Mobil...</td>\n",
       "      <td>1</td>\n",
       "      <td>0</td>\n",
       "      <td>2025-06-03</td>\n",
       "      <td>Bank of Abyssinia</td>\n",
       "      <td>Google Play</td>\n",
       "    </tr>\n",
       "    <tr>\n",
       "      <th>2</th>\n",
       "      <td>exceptional</td>\n",
       "      <td>5</td>\n",
       "      <td>0</td>\n",
       "      <td>2025-06-03</td>\n",
       "      <td>Bank of Abyssinia</td>\n",
       "      <td>Google Play</td>\n",
       "    </tr>\n",
       "    <tr>\n",
       "      <th>3</th>\n",
       "      <td>BoA Mobile good bank</td>\n",
       "      <td>5</td>\n",
       "      <td>0</td>\n",
       "      <td>2025-06-02</td>\n",
       "      <td>Bank of Abyssinia</td>\n",
       "      <td>Google Play</td>\n",
       "    </tr>\n",
       "    <tr>\n",
       "      <th>4</th>\n",
       "      <td>this is worest app 24/7 loading</td>\n",
       "      <td>1</td>\n",
       "      <td>0</td>\n",
       "      <td>2025-06-01</td>\n",
       "      <td>Bank of Abyssinia</td>\n",
       "      <td>Google Play</td>\n",
       "    </tr>\n",
       "  </tbody>\n",
       "</table>\n",
       "</div>"
      ],
      "text/plain": [
       "                                         review_text  rating  upvote  \\\n",
       "0                                   it's not working       3       0   \n",
       "1  Hello, I’m facing a problem with the BOA Mobil...       1       0   \n",
       "2                                        exceptional       5       0   \n",
       "3                               BoA Mobile good bank       5       0   \n",
       "4                    this is worest app 24/7 loading       1       0   \n",
       "\n",
       "         date          bank_name       source  \n",
       "0  2025-06-05  Bank of Abyssinia  Google Play  \n",
       "1  2025-06-03  Bank of Abyssinia  Google Play  \n",
       "2  2025-06-03  Bank of Abyssinia  Google Play  \n",
       "3  2025-06-02  Bank of Abyssinia  Google Play  \n",
       "4  2025-06-01  Bank of Abyssinia  Google Play  "
      ]
     },
     "execution_count": 12,
     "metadata": {},
     "output_type": "execute_result"
    }
   ],
   "source": [
    "# df = pd.read_csv(os.path.join(abs_dir, 'scripts/data/boa_reviews_20250608_162800.csv'))\n",
    "\n",
    "# current_dir = os.getcwd()\n",
    "# file_path = os.path.join(current_dir, 'scripts', 'data', 'boa_reviews_20250608_162800.csv')\n",
    "\n",
    "# # Read the CSV file\n",
    "# df = pd.read_csv(file_path)\n",
    "\n",
    "df = pd.read_csv(os.path.join(abs_dir, 'scripts/data/boa_reviews_20250608_162800.csv'))\n",
    "df.head()"
   ]
  },
  {
   "cell_type": "code",
   "execution_count": null,
   "id": "2c6c4801",
   "metadata": {},
   "outputs": [
    {
     "data": {
      "text/html": [
       "<div>\n",
       "<style scoped>\n",
       "    .dataframe tbody tr th:only-of-type {\n",
       "        vertical-align: middle;\n",
       "    }\n",
       "\n",
       "    .dataframe tbody tr th {\n",
       "        vertical-align: top;\n",
       "    }\n",
       "\n",
       "    .dataframe thead th {\n",
       "        text-align: right;\n",
       "    }\n",
       "</style>\n",
       "<table border=\"1\" class=\"dataframe\">\n",
       "  <thead>\n",
       "    <tr style=\"text-align: right;\">\n",
       "      <th></th>\n",
       "      <th>review_text</th>\n",
       "      <th>rating</th>\n",
       "      <th>upvote</th>\n",
       "      <th>date</th>\n",
       "      <th>bank_name</th>\n",
       "      <th>source</th>\n",
       "    </tr>\n",
       "  </thead>\n",
       "  <tbody>\n",
       "    <tr>\n",
       "      <th>0</th>\n",
       "      <td>it's not working</td>\n",
       "      <td>3</td>\n",
       "      <td>0</td>\n",
       "      <td>2025-06-05</td>\n",
       "      <td>Bank of Abyssinia</td>\n",
       "      <td>Google Play</td>\n",
       "    </tr>\n",
       "    <tr>\n",
       "      <th>1</th>\n",
       "      <td>Hello, I’m facing a problem with the BOA Mobile app. Every time I enter my phone number and password, the app crashes and shows an error that says “BoaMobile closed because this app has a bug.” I tried updating, reinstalling, and clearing cache, but nothing worked. Please fix this bug in the next update. I really need access to my account. Thank you.</td>\n",
       "      <td>1</td>\n",
       "      <td>0</td>\n",
       "      <td>2025-06-03</td>\n",
       "      <td>Bank of Abyssinia</td>\n",
       "      <td>Google Play</td>\n",
       "    </tr>\n",
       "    <tr>\n",
       "      <th>2</th>\n",
       "      <td>exceptional</td>\n",
       "      <td>5</td>\n",
       "      <td>0</td>\n",
       "      <td>2025-06-03</td>\n",
       "      <td>Bank of Abyssinia</td>\n",
       "      <td>Google Play</td>\n",
       "    </tr>\n",
       "    <tr>\n",
       "      <th>3</th>\n",
       "      <td>BoA Mobile good bank</td>\n",
       "      <td>5</td>\n",
       "      <td>0</td>\n",
       "      <td>2025-06-02</td>\n",
       "      <td>Bank of Abyssinia</td>\n",
       "      <td>Google Play</td>\n",
       "    </tr>\n",
       "    <tr>\n",
       "      <th>4</th>\n",
       "      <td>this is worest app 24/7 loading</td>\n",
       "      <td>1</td>\n",
       "      <td>0</td>\n",
       "      <td>2025-06-01</td>\n",
       "      <td>Bank of Abyssinia</td>\n",
       "      <td>Google Play</td>\n",
       "    </tr>\n",
       "  </tbody>\n",
       "</table>\n",
       "</div>"
      ],
      "text/plain": [
       "                                                                                                                                                                                                                                                                                                                                                        review_text  \\\n",
       "0                                                                                                                                                                                                                                                                                                                                                  it's not working   \n",
       "1  Hello, I’m facing a problem with the BOA Mobile app. Every time I enter my phone number and password, the app crashes and shows an error that says “BoaMobile closed because this app has a bug.” I tried updating, reinstalling, and clearing cache, but nothing worked. Please fix this bug in the next update. I really need access to my account. Thank you.   \n",
       "2                                                                                                                                                                                                                                                                                                                                                       exceptional   \n",
       "3                                                                                                                                                                                                                                                                                                                                              BoA Mobile good bank   \n",
       "4                                                                                                                                                                                                                                                                                                                                   this is worest app 24/7 loading   \n",
       "\n",
       "   rating  upvote        date          bank_name       source  \n",
       "0       3       0  2025-06-05  Bank of Abyssinia  Google Play  \n",
       "1       1       0  2025-06-03  Bank of Abyssinia  Google Play  \n",
       "2       5       0  2025-06-03  Bank of Abyssinia  Google Play  \n",
       "3       5       0  2025-06-02  Bank of Abyssinia  Google Play  \n",
       "4       1       0  2025-06-01  Bank of Abyssinia  Google Play  "
      ]
     },
     "execution_count": 13,
     "metadata": {},
     "output_type": "execute_result"
    }
   ],
   "source": [
    "pd.set_option('display.max_colwidth', None) # Set max column width to None to display full text in DataFrame\n",
    "\n",
    "df.head(5)"
   ]
  },
  {
   "cell_type": "code",
   "execution_count": 14,
   "id": "bb8b46b3",
   "metadata": {},
   "outputs": [
    {
     "data": {
      "text/plain": [
       "review_text    object\n",
       "rating          int64\n",
       "upvote          int64\n",
       "date           object\n",
       "bank_name      object\n",
       "source         object\n",
       "dtype: object"
      ]
     },
     "execution_count": 14,
     "metadata": {},
     "output_type": "execute_result"
    }
   ],
   "source": [
    "# check types \n",
    "df.dtypes"
   ]
  },
  {
   "cell_type": "code",
   "execution_count": null,
   "id": "b5b4b8ff",
   "metadata": {},
   "outputs": [
    {
     "data": {
      "text/html": [
       "<div>\n",
       "<style scoped>\n",
       "    .dataframe tbody tr th:only-of-type {\n",
       "        vertical-align: middle;\n",
       "    }\n",
       "\n",
       "    .dataframe tbody tr th {\n",
       "        vertical-align: top;\n",
       "    }\n",
       "\n",
       "    .dataframe thead th {\n",
       "        text-align: right;\n",
       "    }\n",
       "</style>\n",
       "<table border=\"1\" class=\"dataframe\">\n",
       "  <thead>\n",
       "    <tr style=\"text-align: right;\">\n",
       "      <th></th>\n",
       "      <th>rating</th>\n",
       "      <th>upvote</th>\n",
       "    </tr>\n",
       "  </thead>\n",
       "  <tbody>\n",
       "    <tr>\n",
       "      <th>count</th>\n",
       "      <td>1044.000000</td>\n",
       "      <td>1044.000000</td>\n",
       "    </tr>\n",
       "    <tr>\n",
       "      <th>mean</th>\n",
       "      <td>3.063218</td>\n",
       "      <td>10.039272</td>\n",
       "    </tr>\n",
       "    <tr>\n",
       "      <th>std</th>\n",
       "      <td>1.860893</td>\n",
       "      <td>77.112271</td>\n",
       "    </tr>\n",
       "    <tr>\n",
       "      <th>min</th>\n",
       "      <td>1.000000</td>\n",
       "      <td>0.000000</td>\n",
       "    </tr>\n",
       "    <tr>\n",
       "      <th>25%</th>\n",
       "      <td>1.000000</td>\n",
       "      <td>0.000000</td>\n",
       "    </tr>\n",
       "    <tr>\n",
       "      <th>50%</th>\n",
       "      <td>3.000000</td>\n",
       "      <td>1.000000</td>\n",
       "    </tr>\n",
       "    <tr>\n",
       "      <th>75%</th>\n",
       "      <td>5.000000</td>\n",
       "      <td>2.000000</td>\n",
       "    </tr>\n",
       "    <tr>\n",
       "      <th>max</th>\n",
       "      <td>5.000000</td>\n",
       "      <td>1810.000000</td>\n",
       "    </tr>\n",
       "  </tbody>\n",
       "</table>\n",
       "</div>"
      ],
      "text/plain": [
       "            rating       upvote\n",
       "count  1044.000000  1044.000000\n",
       "mean      3.063218    10.039272\n",
       "std       1.860893    77.112271\n",
       "min       1.000000     0.000000\n",
       "25%       1.000000     0.000000\n",
       "50%       3.000000     1.000000\n",
       "75%       5.000000     2.000000\n",
       "max       5.000000  1810.000000"
      ]
     },
     "execution_count": 15,
     "metadata": {},
     "output_type": "execute_result"
    }
   ],
   "source": [
    "df.describe() # Describe the DataFrame to get summary statistics"
   ]
  },
  {
   "cell_type": "code",
   "execution_count": 16,
   "id": "dd4fc72d",
   "metadata": {},
   "outputs": [
    {
     "data": {
      "text/plain": [
       "review_text    0\n",
       "rating         0\n",
       "upvote         0\n",
       "date           0\n",
       "bank_name      0\n",
       "source         0\n",
       "dtype: int64"
      ]
     },
     "execution_count": 16,
     "metadata": {},
     "output_type": "execute_result"
    }
   ],
   "source": [
    "# check for null values in the DataFrame\n",
    "df.isnull().sum()"
   ]
  },
  {
   "cell_type": "markdown",
   "id": "625207ad",
   "metadata": {},
   "source": [
    "### Remove Duplicate Entries\n",
    "\n"
   ]
  },
  {
   "cell_type": "code",
   "execution_count": null,
   "id": "7319a787",
   "metadata": {},
   "outputs": [
    {
     "name": "stdout",
     "output_type": "stream",
     "text": [
      "data duplicated: 0\n"
     ]
    },
    {
     "data": {
      "text/html": [
       "<div>\n",
       "<style scoped>\n",
       "    .dataframe tbody tr th:only-of-type {\n",
       "        vertical-align: middle;\n",
       "    }\n",
       "\n",
       "    .dataframe tbody tr th {\n",
       "        vertical-align: top;\n",
       "    }\n",
       "\n",
       "    .dataframe thead th {\n",
       "        text-align: right;\n",
       "    }\n",
       "</style>\n",
       "<table border=\"1\" class=\"dataframe\">\n",
       "  <thead>\n",
       "    <tr style=\"text-align: right;\">\n",
       "      <th></th>\n",
       "      <th>review_text</th>\n",
       "      <th>rating</th>\n",
       "      <th>upvote</th>\n",
       "      <th>date</th>\n",
       "      <th>bank_name</th>\n",
       "      <th>source</th>\n",
       "    </tr>\n",
       "  </thead>\n",
       "  <tbody>\n",
       "  </tbody>\n",
       "</table>\n",
       "</div>"
      ],
      "text/plain": [
       "Empty DataFrame\n",
       "Columns: [review_text, rating, upvote, date, bank_name, source]\n",
       "Index: []"
      ]
     },
     "execution_count": 21,
     "metadata": {},
     "output_type": "execute_result"
    }
   ],
   "source": [
    "# Check for duplicated data\n",
    "dublicated_data = df.duplicated(subset=['review_text', 'rating'], keep=False).sum() #df.duplicated() returns a boolean Series indicating duplicate rows adn sum() counts them\n",
    "#not count becaause count() counts non-null values and duplicated() is nevernull\n",
    "\n",
    "print(f'data duplicated: {dublicated_data}')\n",
    "df[df.duplicated()]"
   ]
  },
  {
   "cell_type": "code",
   "execution_count": 22,
   "id": "a9d8f38b",
   "metadata": {},
   "outputs": [],
   "source": [
    "# remove duplicated data\n",
    "df.drop_duplicates(subset=['review_text', 'rating'], keep='first', inplace=True)"
   ]
  },
  {
   "cell_type": "code",
   "execution_count": 23,
   "id": "51831da8",
   "metadata": {},
   "outputs": [
    {
     "data": {
      "text/plain": [
       "review_text            object\n",
       "rating                  int64\n",
       "upvote                  int64\n",
       "date           datetime64[ns]\n",
       "bank_name              object\n",
       "source                 object\n",
       "dtype: object"
      ]
     },
     "execution_count": 23,
     "metadata": {},
     "output_type": "execute_result"
    }
   ],
   "source": [
    "# change date format from object to 'YYYY-MM-DD' format\n",
    "df['date'] = pd.to_datetime(df['date'], format='%Y-%m-%d')\n",
    "df.dtypes"
   ]
  },
  {
   "cell_type": "code",
   "execution_count": 24,
   "id": "4e4fbc0f",
   "metadata": {},
   "outputs": [
    {
     "data": {
      "text/plain": [
       "(911, 6)"
      ]
     },
     "execution_count": 24,
     "metadata": {},
     "output_type": "execute_result"
    }
   ],
   "source": [
    "df.shape"
   ]
  },
  {
   "cell_type": "markdown",
   "id": "c03cfa5b",
   "metadata": {},
   "source": [
    "# Task 2\n",
    "Sentiment Analysis - distilbert-base-uncased-finetuned-sst-2-english\n"
   ]
  },
  {
   "cell_type": "code",
   "execution_count": null,
   "id": "57bbec8b",
   "metadata": {},
   "outputs": [],
   "source": [
    "import transfomers #distilbert-base-uncased-finetuned-sst-2-english sentiment analysis\n"
   ]
  }
 ],
 "metadata": {
  "kernelspec": {
   "display_name": "Python 3",
   "language": "python",
   "name": "python3"
  },
  "language_info": {
   "codemirror_mode": {
    "name": "ipython",
    "version": 3
   },
   "file_extension": ".py",
   "mimetype": "text/x-python",
   "name": "python",
   "nbconvert_exporter": "python",
   "pygments_lexer": "ipython3",
   "version": "3.12.10"
  }
 },
 "nbformat": 4,
 "nbformat_minor": 5
}
